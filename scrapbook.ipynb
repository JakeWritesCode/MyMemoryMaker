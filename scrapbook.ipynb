{
 "cells": [
  {
   "cell_type": "code",
   "execution_count": null,
   "metadata": {
    "collapsed": true
   },
   "outputs": [],
   "source": []
  },
  {
   "cell_type": "code",
   "execution_count": null,
   "outputs": [],
   "source": [
    "b'\\n\\n<!DOCTYPE html>\\n<html lang=\"en\">\\n<head>\\n    <meta charset=\"UTF-8\">\\n    <title>Django Boilerplate</title>\\n\\n    <!-- Bootstrap -->\\n    <link href=\"https://cdn.jsdelivr.net/npm/bootstrap@5.1.3/dist/css/bootstrap.min.css\" rel=\"stylesheet\">\\n    <script src=\"https://cdn.jsdelivr.net/npm/bootstrap@5.1.3/dist/js/bootstrap.bundle.min.js\"></script>\\n\\n    <!-- MDB -->\\n    <!-- Font Awesome -->\\n    <link\\n            href=\"https://cdnjs.cloudflare.com/ajax/libs/font-awesome/6.0.0/css/all.min.css\"\\n            rel=\"stylesheet\"\\n    />\\n    <!-- Google Fonts -->\\n    <link\\n            href=\"https://fonts.googleapis.com/css?family=Roboto:300,400,500,700&display=swap\"\\n            rel=\"stylesheet\"\\n    />\\n    <!-- MDB -->\\n    <link\\n            href=\"/static/css/mdb.min.css\"\\n            rel=\"stylesheet\"\\n    />\\n    <script src=\"/static/js/mdb.min.js\"></script>\\n    <script src=\"/static/js/tinymce/js/tinymce/tinymce.min.js\"></script>\\n\\n    \\n    \\n</head>\\n<body>\\n\\n<!-- Navbar -->\\n<nav class=\"navbar navbar-expand-sm bg-light navbar-light\">\\n    <div class=\"container-fluid\">\\n        <a class=\"navbar-brand\" href=\"/\">Django Boilerplate</a>\\n        <ul class=\"navbar-nav\">\\n            <li class=\"nav-item dropdown\">\\n                <a class=\"nav-link dropdown-toggle\" href=\"#\" id=\"navbarDropdown\" role=\"button\"\\n                   data-bs-toggle=\"dropdown\" aria-expanded=\"false\">\\n                    Auth\\n                </a>\\n                <ul class=\"dropdown-menu dropdown-menu-right\" aria-labelledby=\"navbarDropdown\">\\n                    <li><a class=\"dropdown-item\" href=\"/users/sign-up\">Sign up</a></li>\\n                    <li><a class=\"dropdown-item\" href=\"/users/log-out\">Log out</a></li>\\n                    <li><a class=\"dropdown-item\" href=\"/users/log-in\">Log in</a></li>\\n                    <li><a class=\"dropdown-item\" href=\"/users/change-password\">Change Password</a></li>\\n                    <li><a class=\"dropdown-item\" href=\"/users/reset-password\">Reset Password</a></li>\\n                </ul>\\n            </li>\\n            <li class=\"nav-item\">\\n                <a class=\"nav-link active\" href=\"/admin\">Admin</a>\\n            </li>\\n        </ul>\\n    </div>\\n</nav>\\n\\n\\n\\n\\n    <div class=\"container-fluid p-0\">\\n        <div class=\"alert alert-info alert-dismissible\" role=\"alert\">\\n            Your activity has been saved and has been added to the queue for moderation. Please check your submissions screen to see it&#x27;s progress.\\n            <button type=\"button\" class=\"btn-close\" data-bs-dismiss=\"alert\" aria-label=\"Close\"></button>\\n        </div>\\n    </div>\\n\\n\\n    <div class=\"row\">\\n        <div class=\"mt-4 p-5 bg-primary text-white rounded\">\\n            <h1>Welcome to Django Boilerplate</h1>\\n            <p>\\n                This is a basic Django setup you can utilise for all those side projects\\n                you\\'re never going to finish...\\n            </p>\\n            <p>\\n                <a href=\"https://github.com/JakeWritesCode/django-boilerplate\" style=\"color: white\">\\n                    Read the docs to get started\\n                </a>\\n            </p>\\n        </div>\\n    </div>\\n\\n\\n\\n</body>\\n</html>'"
   ],
   "metadata": {
    "collapsed": false,
    "pycharm": {
     "name": "#%%\n"
    }
   }
  }
 ],
 "metadata": {
  "kernelspec": {
   "display_name": "Python 3",
   "language": "python",
   "name": "python3"
  },
  "language_info": {
   "codemirror_mode": {
    "name": "ipython",
    "version": 2
   },
   "file_extension": ".py",
   "mimetype": "text/x-python",
   "name": "python",
   "nbconvert_exporter": "python",
   "pygments_lexer": "ipython2",
   "version": "2.7.6"
  }
 },
 "nbformat": 4,
 "nbformat_minor": 0
}